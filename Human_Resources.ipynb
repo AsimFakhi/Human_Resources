{
 "cells": [
  {
   "cell_type": "code",
   "execution_count": 4,
   "id": "41a6a579-ce71-435b-853f-573d99efa5ed",
   "metadata": {},
   "outputs": [],
   "source": [
    "import pandas as pd\n",
    "import numpy as np\n",
    "import seaborn as sns\n",
    "import matplotlib.pyplot as plt"
   ]
  },
  {
   "cell_type": "code",
   "execution_count": null,
   "id": "ef567a4e",
   "metadata": {},
   "outputs": [],
   "source": []
  },
  {
   "cell_type": "code",
   "execution_count": null,
   "id": "75a8125e-908b-449c-b369-e4079d286b17",
   "metadata": {},
   "outputs": [],
   "source": [
    "emp_df = pd.read_csv('.\\data\\Human_Resources.csv')"
   ]
  },
  {
   "cell_type": "code",
   "execution_count": null,
   "id": "b3bf79ff-a83b-41f1-abda-474a7357d243",
   "metadata": {},
   "outputs": [],
   "source": [
    "emp_df"
   ]
  },
  {
   "cell_type": "code",
   "execution_count": null,
   "id": "3daab608-db36-4b81-bc3d-a38784e9b099",
   "metadata": {},
   "outputs": [],
   "source": [
    "emp_df.Attrition = emp_df.Attrition.apply(lambda x:1 if x=='Yes' else 0)"
   ]
  },
  {
   "cell_type": "code",
   "execution_count": null,
   "id": "0f5beda1-0792-4c90-9a92-759ec9f121d6",
   "metadata": {},
   "outputs": [],
   "source": [
    "emp_df"
   ]
  }
 ],
 "metadata": {
  "interpreter": {
   "hash": "7673ac3ab0ff13d78a5fb68671b35d21f81468cefbf85727a5bf548b2b84d641"
  },
  "kernelspec": {
   "display_name": "Python 3.9.5 64-bit (system)",
   "language": "python",
   "name": "python3"
  },
  "language_info": {
   "codemirror_mode": {
    "name": "ipython",
    "version": 3
   },
   "file_extension": ".py",
   "mimetype": "text/x-python",
   "name": "python",
   "nbconvert_exporter": "python",
   "pygments_lexer": "ipython3",
   "version": "3.9.5"
  }
 },
 "nbformat": 4,
 "nbformat_minor": 5
}
